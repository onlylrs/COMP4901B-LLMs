{
 "cells": [
  {
   "cell_type": "markdown",
   "id": "8d3b43e0",
   "metadata": {},
   "source": [
    "###  Mount Google Drive"
   ]
  },
  {
   "cell_type": "code",
   "execution_count": null,
   "id": "45c19e77",
   "metadata": {
    "vscode": {
     "languageId": "plaintext"
    }
   },
   "outputs": [],
   "source": [
    "import os\n",
    "\n",
    "# Mount Google Drive\n",
    "from google.colab import drive\n",
    "drive.mount('/content/drive')\n",
    "\n",
    "! mkdir -p /content/drive/MyDrive/COMP4901B-Homework1\n"
   ]
  },
  {
   "cell_type": "markdown",
   "id": "420dc8b7",
   "metadata": {},
   "source": [
    "### Clone Codebase"
   ]
  },
  {
   "cell_type": "code",
   "execution_count": null,
   "id": "e20bdbde",
   "metadata": {
    "vscode": {
     "languageId": "plaintext"
    }
   },
   "outputs": [],
   "source": [
    "! mkdir -p /content/drive/MyDrive/COMP4901B-Homework1\n",
    "! cd /content/drive/MyDrive/COMP4901B-Homework1 && git clone https://github.com/hkust-nlp/COMP4901B-Homework1.git"
   ]
  },
  {
   "cell_type": "markdown",
   "id": "29c6cfe0",
   "metadata": {},
   "source": [
    "### Download Dataset"
   ]
  },
  {
   "cell_type": "code",
   "execution_count": null,
   "id": "b5510016",
   "metadata": {
    "vscode": {
     "languageId": "plaintext"
    }
   },
   "outputs": [],
   "source": [
    "! cd /content/drive/MyDrive/COMP4901B-Homework1/COMP4901B-Homework1/llama_training && bash download_data.sh"
   ]
  },
  {
   "cell_type": "markdown",
   "id": "dfe18aa7",
   "metadata": {},
   "source": [
    "### Start The Training"
   ]
  },
  {
   "cell_type": "code",
   "execution_count": null,
   "id": "76f6abed",
   "metadata": {
    "vscode": {
     "languageId": "plaintext"
    }
   },
   "outputs": [],
   "source": [
    "! cd /content/drive/MyDrive/COMP4901B-Homework1/COMP4901B-Homework1/llama_training && bash run_babylm.sh"
   ]
  }
 ],
 "metadata": {
  "language_info": {
   "name": "python"
  }
 },
 "nbformat": 4,
 "nbformat_minor": 5
}
